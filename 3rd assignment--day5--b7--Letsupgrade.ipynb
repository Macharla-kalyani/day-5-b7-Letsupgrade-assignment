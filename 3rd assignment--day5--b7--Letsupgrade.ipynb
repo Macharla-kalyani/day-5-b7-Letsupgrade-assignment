{
 "cells": [
  {
   "cell_type": "code",
   "execution_count": 11,
   "metadata": {},
   "outputs": [],
   "source": [
    "capital=lambda s: s.title()"
   ]
  },
  {
   "cell_type": "code",
   "execution_count": 13,
   "metadata": {},
   "outputs": [
    {
     "name": "stdout",
     "output_type": "stream",
     "text": [
      "['Hey This Is Sai', 'I Am In Mumbai', '....']\n"
     ]
    }
   ],
   "source": [
    "st=[\"hey this is sai\",\"i am in mumbai\",\"....\"]\n",
    "c=map(capital,st)\n",
    "print(list(c))"
   ]
  },
  {
   "cell_type": "code",
   "execution_count": 14,
   "metadata": {},
   "outputs": [
    {
     "name": "stdout",
     "output_type": "stream",
     "text": [
      "['Hey This Is Sai', 'I Am In Mumbai', '....']\n"
     ]
    }
   ],
   "source": [
    "st=[\"hey this is sai\",\"i am in mumbai\",\"....\"]\n",
    "print(list(map(lambda s:s.title(),st)))"
   ]
  },
  {
   "cell_type": "code",
   "execution_count": null,
   "metadata": {},
   "outputs": [],
   "source": []
  }
 ],
 "metadata": {
  "kernelspec": {
   "display_name": "Python 3",
   "language": "python",
   "name": "python3"
  },
  "language_info": {
   "codemirror_mode": {
    "name": "ipython",
    "version": 3
   },
   "file_extension": ".py",
   "mimetype": "text/x-python",
   "name": "python",
   "nbconvert_exporter": "python",
   "pygments_lexer": "ipython3",
   "version": "3.7.1"
  }
 },
 "nbformat": 4,
 "nbformat_minor": 2
}
