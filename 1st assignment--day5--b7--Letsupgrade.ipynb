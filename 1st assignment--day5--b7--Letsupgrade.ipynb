{
 "cells": [
  {
   "cell_type": "code",
   "execution_count": 11,
   "metadata": {},
   "outputs": [
    {
     "name": "stdout",
     "output_type": "stream",
     "text": [
      "give i/p-----1\n",
      "give i/p-----5\n",
      "give i/p-----6\n",
      "give i/p-----4\n",
      "give i/p-----1\n",
      "give i/p-----2\n",
      "give i/p-----3\n",
      "give i/p-----5\n",
      "it's a Match\n"
     ]
    }
   ],
   "source": [
    "l1=[1,1,5]\n",
    "l2=[]\n",
    "j=0\n",
    "k=0\n",
    "l=0\n",
    "for i in range(0,8):\n",
    "    l2.append(input(\"give i/p-----\"))\n",
    "for i in range(0,3):\n",
    "    j=l;\n",
    "    for j in range(j,8):\n",
    "        if l1[i]==int(l2[j]):\n",
    "            k=k+1\n",
    "            l=j+1\n",
    "            break\n",
    "        j=j+1\n",
    "if k==3:\n",
    "    print(\"it's a Match\")\n",
    "else:\n",
    "    print(\"it's Gone\")\n"
   ]
  },
  {
   "cell_type": "code",
   "execution_count": 12,
   "metadata": {},
   "outputs": [
    {
     "name": "stdout",
     "output_type": "stream",
     "text": [
      "give i/p-----1\n",
      "give i/p-----5\n",
      "give i/p-----6\n",
      "give i/p-----5\n",
      "give i/p-----1\n",
      "give i/p-----2\n",
      "give i/p-----3\n",
      "give i/p-----6\n",
      "it's Gone\n"
     ]
    }
   ],
   "source": [
    "l1=[1,1,5]\n",
    "l2=[]\n",
    "j=0\n",
    "k=0\n",
    "l=0\n",
    "for i in range(0,8):\n",
    "    l2.append(input(\"give i/p-----\"))\n",
    "for i in range(0,3):\n",
    "    j=l;\n",
    "    for j in range(j,8):\n",
    "        if l1[i]==int(l2[j]):\n",
    "            k=k+1\n",
    "            l=j+1\n",
    "            break\n",
    "        j=j+1\n",
    "if k==3:\n",
    "    print(\"it's a Match\")\n",
    "else:\n",
    "    print(\"it's Gone\")"
   ]
  },
  {
   "cell_type": "code",
   "execution_count": null,
   "metadata": {},
   "outputs": [],
   "source": []
  },
  {
   "cell_type": "code",
   "execution_count": null,
   "metadata": {},
   "outputs": [],
   "source": []
  },
  {
   "cell_type": "code",
   "execution_count": null,
   "metadata": {},
   "outputs": [],
   "source": []
  }
 ],
 "metadata": {
  "kernelspec": {
   "display_name": "Python 3",
   "language": "python",
   "name": "python3"
  },
  "language_info": {
   "codemirror_mode": {
    "name": "ipython",
    "version": 3
   },
   "file_extension": ".py",
   "mimetype": "text/x-python",
   "name": "python",
   "nbconvert_exporter": "python",
   "pygments_lexer": "ipython3",
   "version": "3.7.1"
  }
 },
 "nbformat": 4,
 "nbformat_minor": 2
}
